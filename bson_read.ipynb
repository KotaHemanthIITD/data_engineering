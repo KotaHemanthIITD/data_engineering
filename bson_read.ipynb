{
 "cells": [
  {
   "cell_type": "code",
   "execution_count": 19,
   "metadata": {},
   "outputs": [],
   "source": [
    "import bson\n",
    "import pandas as pd\n",
    "import numpy as np\n",
    "import math\n",
    "import csv\n",
    "# import csvreader\n",
    "# help(bson.loads)"
   ]
  },
  {
   "cell_type": "markdown",
   "metadata": {},
   "source": [
    "'title', 'primary_isbn13','asin','apple_ean','google_id','publisher','bisac_status','pub_date','us_li st_price','series_name','volume','legacy_slugs', 'image', 'description', 'retailer', 'product_uri'\n",
    "\n",
    "c is integer \n",
    "d is dict"
   ]
  },
  {
   "cell_type": "code",
   "execution_count": 47,
   "metadata": {},
   "outputs": [
    {
     "name": "stdout",
     "output_type": "stream",
     "text": [
      "['in-search-of-our-mothers-gardens']\n",
      "['_id', 'active', 'amazon_rank', 'amazon_rank_change', 'amazon_review', 'amazon_review_count', 'apple_ean', 'asin', 'authors', 'award_winner', 'bisac_status', 'bisacs', 'book_img', 'bookkey', 'campaigns', 'consumer_price', 'created', 'description', 'ebb_newsletter_data', 'format', 'google_id', 'image', 'isbns', 'item_type', 'keywords', 'legacy_slugs', 'nominations', 'previous_amazon_rank', 'previous_amazon_review', 'previous_amazon_review_count', 'previous_consumer_price', 'price', 'primary_bisacs', 'primary_isbn', 'pub_date', 'publisher', 'retailer_site_links', 'retailers', 'reviews', 'series_name', 'title', 'updated', 'volume']\n",
      "['primary_isbn13', 'product_uri', 'retailer', 'us_list_price']\n"
     ]
    },
    {
     "ename": "TypeError",
     "evalue": "can only join an iterable",
     "output_type": "error",
     "traceback": [
      "\u001b[0;31m---------------------------------------------------------------------------\u001b[0m",
      "\u001b[0;31mTypeError\u001b[0m                                 Traceback (most recent call last)",
      "\u001b[0;32m<ipython-input-47-4f0e0b813b62>\u001b[0m in \u001b[0;36m<module>\u001b[0;34m\u001b[0m\n\u001b[1;32m     33\u001b[0m     \u001b[0mt_dict\u001b[0m \u001b[0;34m=\u001b[0m \u001b[0;34m{\u001b[0m\u001b[0;34m}\u001b[0m\u001b[0;34m\u001b[0m\u001b[0;34m\u001b[0m\u001b[0m\n\u001b[1;32m     34\u001b[0m     \u001b[0;32mfor\u001b[0m \u001b[0mi\u001b[0m \u001b[0;32min\u001b[0m \u001b[0msub_arr2\u001b[0m\u001b[0;34m:\u001b[0m\u001b[0;34m\u001b[0m\u001b[0;34m\u001b[0m\u001b[0m\n\u001b[0;32m---> 35\u001b[0;31m             \u001b[0mt_dict\u001b[0m\u001b[0;34m[\u001b[0m\u001b[0mi\u001b[0m\u001b[0;34m]\u001b[0m \u001b[0;34m=\u001b[0m \u001b[0;34m''\u001b[0m\u001b[0;34m.\u001b[0m\u001b[0mjoin\u001b[0m\u001b[0;34m(\u001b[0m\u001b[0md\u001b[0m\u001b[0;34m[\u001b[0m\u001b[0mi\u001b[0m\u001b[0;34m]\u001b[0m\u001b[0;34m)\u001b[0m\u001b[0;34m\u001b[0m\u001b[0;34m\u001b[0m\u001b[0m\n\u001b[0m\u001b[1;32m     36\u001b[0m     \u001b[0mb_dict\u001b[0m\u001b[0;34m[\u001b[0m\u001b[0mc\u001b[0m\u001b[0;34m]\u001b[0m \u001b[0;34m=\u001b[0m \u001b[0mt_dict\u001b[0m\u001b[0;34m\u001b[0m\u001b[0;34m\u001b[0m\u001b[0m\n\u001b[1;32m     37\u001b[0m \u001b[0marr\u001b[0m\u001b[0;34m.\u001b[0m\u001b[0msort\u001b[0m\u001b[0;34m(\u001b[0m\u001b[0;34m)\u001b[0m\u001b[0;34m\u001b[0m\u001b[0;34m\u001b[0m\u001b[0m\n",
      "\u001b[0;31mTypeError\u001b[0m: can only join an iterable"
     ]
    }
   ],
   "source": [
    "data = bson.decode_file_iter(open('books.bson', 'rb'))\n",
    "\n",
    "arr = ['title', 'primary_isbn13','asin','apple_ean','google_id','publisher','bisac_status','pub_date','us_list_price',\n",
    "       'series_name','volume','legacy_slugs', 'image', 'description', 'retailer', 'product_uri']\n",
    "\n",
    "sub_arr1 = []\n",
    "sub_arr2 = []\n",
    "# print(arr)\n",
    "# print(sub1_arr)\n",
    "keys=[]\n",
    "    \n",
    "with open('bson.csv', 'wb') as writeFile:\n",
    "    writer = csv.writer(writeFile,delimiter=' ')\n",
    "    \n",
    "# for i in arr:\n",
    "#     help(writer.writerows)\n",
    "\n",
    "b_dict = {}\n",
    "for c, d in enumerate(data):\n",
    "    print(d['legacy_slugs'])\n",
    "    if c==0:\n",
    "        keys = list(d.keys())\n",
    "        keys.sort()\n",
    "        print(keys)\n",
    "        for i in arr:\n",
    "            if i not in keys:\n",
    "                sub_arr1.append(i)\n",
    "            else:\n",
    "                sub_arr2.append(i)\n",
    "        sub_arr1.sort()    \n",
    "        print(sub_arr1)\n",
    "    b_dict[c] = {}\n",
    "    t_dict = {}\n",
    "    for i in sub_arr2:\n",
    "            t_dict[i] = ''.join(d[i])\n",
    "    b_dict[c] = t_dict\n",
    "arr.sort()\n",
    "    \n",
    "    \n",
    "# with open('books.bson', 'rb') as bson_file:\n",
    "#     data = bson_file.read()\n",
    "'''\n",
    "b = bson.loads(data)\n",
    "keys = list(b.keys())\n",
    "keys.sort()\n",
    "print(\"Dict Keys\",keys)\n",
    "\n",
    "\n",
    "for i in arr:\n",
    "    if i not in sub_arr:\n",
    "        print(i,b[i])\n",
    "        print(\"break line\\n\")\n",
    "'''"
   ]
  },
  {
   "cell_type": "code",
   "execution_count": 45,
   "metadata": {},
   "outputs": [
    {
     "name": "stdout",
     "output_type": "stream",
     "text": [
      "['title', 'asin', 'apple_ean', 'google_id', 'publisher', 'bisac_status', 'pub_date', 'series_name', 'volume', 'legacy_slugs', 'image', 'description']\n"
     ]
    }
   ],
   "source": [
    "print(sub_arr2)"
   ]
  },
  {
   "cell_type": "code",
   "execution_count": null,
   "metadata": {},
   "outputs": [],
   "source": []
  }
 ],
 "metadata": {
  "kernelspec": {
   "display_name": "Python 3",
   "language": "python",
   "name": "python3"
  },
  "language_info": {
   "codemirror_mode": {
    "name": "ipython",
    "version": 3
   },
   "file_extension": ".py",
   "mimetype": "text/x-python",
   "name": "python",
   "nbconvert_exporter": "python",
   "pygments_lexer": "ipython3",
   "version": "3.7.3"
  }
 },
 "nbformat": 4,
 "nbformat_minor": 2
}
